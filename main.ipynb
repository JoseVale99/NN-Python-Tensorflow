{
 "cells": [
  {
   "cell_type": "markdown",
   "metadata": {},
   "source": [
    "## Mi primer red Neuronal utilizando Python y el modulo Tensorflow."
   ]
  },
  {
   "cell_type": "markdown",
   "metadata": {},
   "source": []
  },
  {
   "cell_type": "code",
   "execution_count": 58,
   "metadata": {},
   "outputs": [],
   "source": [
    "import tensorflow as tf\n",
    "import numpy as np"
   ]
  },
  {
   "cell_type": "code",
   "execution_count": 49,
   "metadata": {},
   "outputs": [],
   "source": [
    "celcius = np.array([-40, -10, 0, 8, 15, 22, 38], dtype=float)\n",
    "fahrenheit = np.array([-40, 14, 32, 46, 59, 72, 100], dtype=float)\n",
    "\n",
    "#capa = tf.keras.layers.Dense(units=1, input_shape=[1])\n",
    "# modelo = tf.keras.Sequential([capa])\n",
    "\n",
    "oculta1 = tf.keras.layers.Dense(units=3, input_shape=[1])\n",
    "oculta2 = tf.keras.layers.Dense(units=3)\n",
    "salida = tf.keras.layers.Dense(units=1)\n",
    "modelo = tf.keras.Sequential([oculta1, oculta2, salida])"
   ]
  },
  {
   "cell_type": "code",
   "execution_count": 59,
   "metadata": {},
   "outputs": [
    {
     "name": "stdout",
     "output_type": "stream",
     "text": [
      "comenzando entrenamiento....\n",
      "modelo entrenado\n"
     ]
    }
   ],
   "source": [
    "modelo.compile(optimizer=tf.keras.optimizers.Adam(0.1), loss='mean_squared_error')\n",
    "\n",
    "print('comenzando entrenamiento....')\n",
    "historial = modelo.fit(celcius, fahrenheit, epochs=1000, verbose=False)\n",
    "print('modelo entrenado')"
   ]
  },
  {
   "cell_type": "code",
   "execution_count": 60,
   "metadata": {},
   "outputs": [
    {
     "data": {
      "text/plain": [
       "[<matplotlib.lines.Line2D at 0x7f869e3f1510>]"
      ]
     },
     "execution_count": 60,
     "metadata": {},
     "output_type": "execute_result"
    },
    {
     "data": {
      "image/png": "[encoded data removed]",
      "text/plain": [
       "<Figure size 576x396 with 1 Axes>"
      ]
     },
     "metadata": {},
     "output_type": "display_data"
    }
   ],
   "source": [
    "import matplotlib.pyplot as plt\n",
    "\n",
    "plt.style.use('seaborn')\n",
    "plt.xlabel(\"Épocas\")\n",
    "plt.ylabel(\"Error\")\n",
    "plt.plot(historial.history['loss'])\n"
   ]
  },
  {
   "cell_type": "code",
   "execution_count": 63,
   "metadata": {},
   "outputs": [
    {
     "name": "stdout",
     "output_type": "stream",
     "text": [
      "predicciones\n",
      "El resultado es:  [[211.7474]] grados Fahrenheit\n"
     ]
    }
   ],
   "source": [
    "print('predicciones')\n",
    "result = modelo.predict([100.0])\n",
    "print('El resultado es: ', result, 'grados Fahrenheit')"
   ]
  },
  {
   "cell_type": "code",
   "execution_count": 64,
   "metadata": {},
   "outputs": [
    {
     "name": "stdout",
     "output_type": "stream",
     "text": [
      "variables internas del modelo\n",
      "[array([[-0.15505163,  0.04157787,  0.52313936]], dtype=float32), array([-3.1986535, -2.0887485,  4.0358596], dtype=float32)]\n",
      "[array([[ 0.52608675, -0.10629202,  0.8323536 ],\n",
      "       [ 0.03893468,  1.326316  ,  0.07911101],\n",
      "       [-1.5733187 ,  0.15245719, -0.828722  ]], dtype=float32), array([-3.6245513 , -0.42925072, -3.9589703 ], dtype=float32)]\n",
      "[array([[-1.0503719 ],\n",
      "       [-0.07567034],\n",
      "       [-1.5392315 ]], dtype=float32), array([3.8587697], dtype=float32)]\n"
     ]
    }
   ],
   "source": [
    "print('variables internas del modelo')\n",
    "# print(capa.get_weights())\n",
    "print(oculta1.get_weights())\n",
    "print(oculta2.get_weights())\n",
    "print(salida.get_weights())"
   ]
  }
 ],
 "metadata": {
  "interpreter": {
   "hash": "e7370f93d1d0cde622a1f8e1c04877d8463912d04d973331ad4851f04de6915a"
  },
  "kernelspec": {
   "display_name": "Python 3.10.4 64-bit",
   "language": "python",
   "name": "python3"
  },
  "language_info": {
   "codemirror_mode": {
    "name": "ipython",
    "version": 3
   },
   "file_extension": ".py",
   "mimetype": "text/x-python",
   "name": "python",
   "nbconvert_exporter": "python",
   "pygments_lexer": "ipython3",
   "version": "3.10.4"
  },
  "orig_nbformat": 4
 },
 "nbformat": 4,
 "nbformat_minor": 2
}
