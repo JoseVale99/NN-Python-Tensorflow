{
 "cells": [
  {
   "cell_type": "code",
   "execution_count": 15,
   "metadata": {},
   "outputs": [],
   "source": [
    "import tensorflow as tf\n",
    "import numpy as np"
   ]
  },
  {
   "cell_type": "code",
   "execution_count": null,
   "metadata": {},
   "outputs": [],
   "source": [
    "celcius = np.array([-40, -10, 0, 8, 15, 22, 38], dtype=float)\n",
    "fahrenheit = np.array([-40, 14, 32, 46, 59, 72, 100], dtype=float)\n",
    "\n",
    "oculta1 = tf.keras.layers.Dense(units=3, input_shape=[1])\n",
    "oculta2 = tf.keras.layers.Dense(units=3)\n",
    "salida = tf.keras.layers.Dense(units=3)\n",
    "modelo = tf.keras.Sequential([oculta1, oculta2, salida])"
   ]
  },
  {
   "cell_type": "code",
   "execution_count": 16,
   "metadata": {},
   "outputs": [
    {
     "name": "stdout",
     "output_type": "stream",
     "text": [
      "comenzando entrenamiento....\n",
      "modelo entrenado\n"
     ]
    }
   ],
   "source": [
    "modelo.compile(optimizer=tf.keras.optimizers.Adam(0.1), loss='mean_squared_error')\n",
    "\n",
    "print('comenzando entrenamiento....')\n",
    "historial = modelo.fit(celcius, fahrenheit, epochs=1000, verbose=False)\n",
    "print('modelo entrenado')"
   ]
  },
  {
   "cell_type": "code",
   "execution_count": 17,
   "metadata": {},
   "outputs": [
    {
     "data": {
      "text/plain": [
       "[<matplotlib.lines.Line2D at 0x7f86d1564f40>]"
      ]
     },
     "execution_count": 17,
     "metadata": {},
     "output_type": "execute_result"
    },
    {
     "data": {
      "image/png": "[encoded data removed]",
      "text/plain": [
       "<Figure size 432x288 with 1 Axes>"
      ]
     },
     "metadata": {
      "needs_background": "light"
     },
     "output_type": "display_data"
    }
   ],
   "source": [
    "import matplotlib.pyplot as plt\n",
    "\n",
    "plt.xlabel(\"Epocas\")\n",
    "plt.ylabel(\"Error\")\n",
    "plt.plot(historial.history['loss'])\n"
   ]
  },
  {
   "cell_type": "code",
   "execution_count": 18,
   "metadata": {},
   "outputs": [
    {
     "name": "stdout",
     "output_type": "stream",
     "text": [
      "predicciones\n",
      "El resultado es:  [[211.74739 211.74739 211.7474 ]] grados fahrenheit\n"
     ]
    }
   ],
   "source": [
    "print('predicciones')\n",
    "result = modelo.predict([100])\n",
    "print('El resultado es: ', result, 'grados fahrenheit')"
   ]
  },
  {
   "cell_type": "code",
   "execution_count": 19,
   "metadata": {},
   "outputs": [
    {
     "name": "stdout",
     "output_type": "stream",
     "text": [
      "variables internas del modelo\n",
      "[array([[0.29993576, 0.41335207, 0.10544048]], dtype=float32), array([3.390844 , 2.486786 , 0.8219277], dtype=float32)]\n",
      "[array([[-1.5321034 ,  0.33799624,  0.9277983 ],\n",
      "       [-0.38923335,  0.44971648,  0.24741316],\n",
      "       [ 0.1333448 , -0.3136195 ,  0.35921246]], dtype=float32), array([-3.4241443,  2.2652953,  2.7377527], dtype=float32)]\n",
      "[array([[-2.0573838 , -1.1848961 , -0.57477605],\n",
      "       [ 0.46273917,  1.3091352 ,  2.1909897 ],\n",
      "       [ 1.0343544 ,  1.7845267 ,  2.1329455 ]], dtype=float32), array([3.4489424, 3.0053897, 2.6533573], dtype=float32)]\n"
     ]
    }
   ],
   "source": [
    "print('variables internas del modelo')\n",
    "# print(capa.get_weights())\n",
    "print(oculta1.get_weights())\n",
    "print(oculta2.get_weights())\n",
    "print(salida.get_weights())"
   ]
  }
 ],
 "metadata": {
  "interpreter": {
   "hash": "e7370f93d1d0cde622a1f8e1c04877d8463912d04d973331ad4851f04de6915a"
  },
  "kernelspec": {
   "display_name": "Python 3.10.4 64-bit",
   "language": "python",
   "name": "python3"
  },
  "language_info": {
   "codemirror_mode": {
    "name": "ipython",
    "version": 3
   },
   "file_extension": ".py",
   "mimetype": "text/x-python",
   "name": "python",
   "nbconvert_exporter": "python",
   "pygments_lexer": "ipython3",
   "version": "3.10.4"
  },
  "orig_nbformat": 4
 },
 "nbformat": 4,
 "nbformat_minor": 2
}
