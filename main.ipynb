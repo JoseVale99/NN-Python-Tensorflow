{
 "cells": [
  {
   "cell_type": "markdown",
   "metadata": {},
   "source": [
    "### Mi primer red Neuronal utilizando Python y el modulo Tensorflow."
   ]
  },
  {
   "cell_type": "markdown",
   "metadata": {},
   "source": [
    "> El objetivo es utilizar una red neuronal simple, que cumpla una función y nos permita ver cómo funciona. "
   ]
  },
  {
   "cell_type": "code",
   "execution_count": 3,
   "metadata": {},
   "outputs": [],
   "source": [
    "import tensorflow as tf\n",
    "import numpy as np"
   ]
  },
  {
   "cell_type": "code",
   "execution_count": 5,
   "metadata": {},
   "outputs": [],
   "source": [
    "celsius = np.array([-40, -10, 0, 8, 15, 22, 38], dtype=float)\n",
    "fahrenheit = np.array([-40, 14, 32, 46, 59, 72, 100], dtype=float)"
   ]
  },
  {
   "cell_type": "code",
   "execution_count": 6,
   "metadata": {},
   "outputs": [],
   "source": [
    "#capa = tf.keras.layers.Dense(units=1, input_shape=[1])\n",
    "#modelo = tf.keras.Sequential([capa])\n",
    "\n",
    "oculta1 = tf.keras.layers.Dense(units=3, input_shape=[1])\n",
    "oculta2 = tf.keras.layers.Dense(units=3)\n",
    "salida = tf.keras.layers.Dense(units=1)\n",
    "modelo = tf.keras.Sequential([oculta1, oculta2, salida])"
   ]
  },
  {
   "cell_type": "code",
   "execution_count": 7,
   "metadata": {},
   "outputs": [],
   "source": [
    "modelo.compile(\n",
    "    optimizer=tf.keras.optimizers.Adam(0.1),\n",
    "    loss='mean_squared_error'\n",
    ")"
   ]
  },
  {
   "cell_type": "code",
   "execution_count": 8,
   "metadata": {},
   "outputs": [
    {
     "name": "stdout",
     "output_type": "stream",
     "text": [
      "Comenzando entrenamiento...\n",
      "Modelo entrenado!\n"
     ]
    }
   ],
   "source": [
    "print(\"Comenzando entrenamiento...\")\n",
    "historial = modelo.fit(celsius, fahrenheit, epochs=1000, verbose=False)\n",
    "print(\"Modelo entrenado!\")"
   ]
  },
  {
   "cell_type": "code",
   "execution_count": 9,
   "metadata": {},
   "outputs": [
    {
     "data": {
      "text/plain": [
       "[<matplotlib.lines.Line2D at 0x7f83589b8b80>]"
      ]
     },
     "execution_count": 9,
     "metadata": {},
     "output_type": "execute_result"
    },
    {
     "data": {
      "image/png": "[encoded data removed]",
      "text/plain": [
       "<Figure size 576x396 with 1 Axes>"
      ]
     },
     "metadata": {},
     "output_type": "display_data"
    }
   ],
   "source": [
    "import matplotlib.pyplot as plt\n",
    "\n",
    "plt.style.use('seaborn')\n",
    "plt.xlabel(\"Épocas\")\n",
    "plt.ylabel(\"Error\")\n",
    "plt.plot(historial.history['loss'])\n"
   ]
  },
  {
   "cell_type": "code",
   "execution_count": 10,
   "metadata": {},
   "outputs": [
    {
     "name": "stdout",
     "output_type": "stream",
     "text": [
      "Hagamos una predicción!\n",
      "El resultado es:  [[211.74745]] grados Fahrenheit\n"
     ]
    }
   ],
   "source": [
    "print('Hagamos una predicción!')\n",
    "result = modelo.predict([100.0])\n",
    "print('El resultado es: ', result, 'grados Fahrenheit')"
   ]
  },
  {
   "cell_type": "code",
   "execution_count": 11,
   "metadata": {},
   "outputs": [
    {
     "name": "stdout",
     "output_type": "stream",
     "text": [
      "variables internas del modelo\n",
      "[array([[-0.573169  , -0.10135947,  0.14896137]], dtype=float32), array([-4.0451455,  1.4646028,  3.7486165], dtype=float32)]\n",
      "[array([[-1.1937678 ,  0.34098122,  1.1807582 ],\n",
      "       [ 0.4497821 ,  0.14872548,  0.18814825],\n",
      "       [ 0.6764175 ,  0.7272025 , -0.83386177]], dtype=float32), array([ 3.7559278,  2.2085001, -3.9528847], dtype=float32)]\n",
      "[array([[ 1.3371108 ],\n",
      "       [ 0.19157399],\n",
      "       [-1.0107396 ]], dtype=float32), array([3.7756746], dtype=float32)]\n"
     ]
    }
   ],
   "source": [
    "print('variables internas del modelo')\n",
    "# print(capa.get_weights())\n",
    "print(oculta1.get_weights())\n",
    "print(oculta2.get_weights())\n",
    "print(salida.get_weights())"
   ]
  }
 ],
 "metadata": {
  "interpreter": {
   "hash": "e7370f93d1d0cde622a1f8e1c04877d8463912d04d973331ad4851f04de6915a"
  },
  "kernelspec": {
   "display_name": "Python 3.10.4 64-bit",
   "language": "python",
   "name": "python3"
  },
  "language_info": {
   "codemirror_mode": {
    "name": "ipython",
    "version": 3
   },
   "file_extension": ".py",
   "mimetype": "text/x-python",
   "name": "python",
   "nbconvert_exporter": "python",
   "pygments_lexer": "ipython3",
   "version": "3.10.4"
  },
  "orig_nbformat": 4
 },
 "nbformat": 4,
 "nbformat_minor": 2
}
